{
 "cells": [
  {
   "cell_type": "code",
   "execution_count": 2,
   "id": "e7d1e20e",
   "metadata": {},
   "outputs": [],
   "source": [
    "import pandas as pd\n",
    "\n",
    "# ===== 데이터 로드 =====\n",
    "file_path = \"../data/customer_data.csv\"\n",
    "df = pd.read_csv(file_path)"
   ]
  },
  {
   "cell_type": "code",
   "execution_count": 3,
   "id": "2d407d69",
   "metadata": {},
   "outputs": [
    {
     "name": "stdout",
     "output_type": "stream",
     "text": [
      "=== 결측치 개수 확인 ===\n"
     ]
    },
    {
     "data": {
      "text/plain": [
       "CustomerID           0\n",
       "Age                100\n",
       "AnnualIncome       100\n",
       "SpendingScore        0\n",
       "PurchaseHistory      0\n",
       "dtype: int64"
      ]
     },
     "execution_count": 3,
     "metadata": {},
     "output_type": "execute_result"
    }
   ],
   "source": [
    "# ===== 1. 결측치 확인 =====\n",
    "print(\"=== 결측치 개수 확인 ===\")\n",
    "df.isna().sum()  # 각 컬럼별 결측치 개수 출력"
   ]
  },
  {
   "cell_type": "code",
   "execution_count": 3,
   "id": "ffa76ea3",
   "metadata": {},
   "outputs": [
    {
     "name": "stdout",
     "output_type": "stream",
     "text": [
      "\n",
      "=== 결측치 처리 후 확인 ===\n"
     ]
    },
    {
     "data": {
      "text/plain": [
       "CustomerID         0\n",
       "Age                0\n",
       "AnnualIncome       0\n",
       "SpendingScore      0\n",
       "PurchaseHistory    0\n",
       "dtype: int64"
      ]
     },
     "execution_count": 3,
     "metadata": {},
     "output_type": "execute_result"
    }
   ],
   "source": [
    "# ===== 2. 결측치 처리 =====\n",
    "# 'Age'와 'AnnualIncome' 컬럼의 결측값을 중앙값(median)으로 대체\n",
    "df['Age'] = df['Age'].fillna(df['Age'].median())\n",
    "df['AnnualIncome'] = df['AnnualIncome'].fillna(df['AnnualIncome'].median())\n",
    "\n",
    "# 결측치 처리 후 다시 확인\n",
    "print(\"\\n=== 결측치 처리 후 확인 ===\")\n",
    "df.isna().sum() # 이제 결측치가 없어야 함"
   ]
  },
  {
   "cell_type": "code",
   "execution_count": 4,
   "id": "84c446e1",
   "metadata": {},
   "outputs": [
    {
     "name": "stdout",
     "output_type": "stream",
     "text": [
      "\n",
      "=== 이상치 탐지 결과 ===\n",
      "'Age' 이상치 개수: 1개\n",
      "'AnnualIncome' 이상치 개수: 0개\n",
      "'SpendingScore' 이상치 개수: 0개\n"
     ]
    }
   ],
   "source": [
    "# ===== 3. 이상치 탐지 (IQR 방식) =====\n",
    "# IQR(Interquartile Range)을 사용하여 이상치 경계값 구하는 함수\n",
    "def get_iqr_bounds(series):\n",
    "    \"\"\"\n",
    "    IQR(사분위 범위) 방법을 이용하여 이상치 경계값 반환\n",
    "    - IQR = Q3(75%) - Q1(25%)\n",
    "    - 이상치 기준: Q1 - 1.5*IQR 이하 또는 Q3 + 1.5*IQR 이상\n",
    "    \"\"\"\n",
    "    Q1 = series.quantile(0.25)\n",
    "    Q3 = series.quantile(0.75)\n",
    "    IQR = Q3 - Q1\n",
    "    lower_bound = Q1 - 1.5 * IQR  # 하한선\n",
    "    upper_bound = Q3 + 1.5 * IQR  # 상한선\n",
    "    return lower_bound, upper_bound\n",
    "\n",
    "# 각 컬럼별 이상치 경계값 계산\n",
    "age_low, age_high = get_iqr_bounds(df['Age'])\n",
    "income_low, income_high = get_iqr_bounds(df['AnnualIncome'])\n",
    "score_low, score_high = get_iqr_bounds(df['SpendingScore'])\n",
    "\n",
    "# 이상치 개수 확인\n",
    "outliers_age = df[(df['Age'] < age_low) | (df['Age'] > age_high)]\n",
    "outliers_income = df[(df['AnnualIncome'] < income_low) | (df['AnnualIncome'] > income_high)]\n",
    "outliers_spending = df[(df['SpendingScore'] < score_low) | (df['SpendingScore'] > score_high)]\n",
    "\n",
    "print(\"\\n=== 이상치 탐지 결과 ===\")\n",
    "print(f\"'Age' 이상치 개수: {len(outliers_age)}개\")\n",
    "print(f\"'AnnualIncome' 이상치 개수: {len(outliers_income)}개\")\n",
    "print(f\"'SpendingScore' 이상치 개수: {len(outliers_spending)}개\")"
   ]
  },
  {
   "cell_type": "code",
   "execution_count": 5,
   "id": "e1a307ad",
   "metadata": {},
   "outputs": [
    {
     "name": "stdout",
     "output_type": "stream",
     "text": [
      "\n",
      "=== 이상치 처리 후 확인 ===\n",
      "최소/최대 Age: 18.0 ~ 69.0\n",
      "최소/최대 AnnualIncome: 20.0 ~ 149.0\n",
      "최소/최대 SpendingScore: 1 ~ 100\n"
     ]
    }
   ],
   "source": [
    "# ===== 4. 이상치 처리 =====\n",
    "# 이상치를 평균값으로 대체 (단, 평균값은 정상 범위 내 값으로 계산)\n",
    "# 각 컬럼에서 이상치를 제외한 평균값 계산\n",
    "age_mean = int(df[(df['Age'] >= age_low) & (df['Age'] <= age_high)]['Age'].mean())\n",
    "income_mean = int(df[(df['AnnualIncome'] >= income_low) & (df['AnnualIncome'] <= income_high)]['AnnualIncome'].mean())\n",
    "score_mean = int(df[(df['SpendingScore'] >= score_low) & (df['SpendingScore'] <= score_high)]['SpendingScore'].mean())\n",
    "\n",
    "# 이상치를 평균값으로 대체\n",
    "df.loc[(df['Age'] < age_low), 'Age'] = age_mean\n",
    "df.loc[(df['Age'] > age_high), 'Age'] = age_mean\n",
    "\n",
    "df.loc[(df['AnnualIncome'] < income_low), 'AnnualIncome'] = income_mean\n",
    "df.loc[(df['AnnualIncome'] > income_high), 'AnnualIncome'] = income_mean\n",
    "\n",
    "df.loc[(df['SpendingScore'] < score_low), 'SpendingScore'] = score_mean\n",
    "df.loc[(df['SpendingScore'] > score_high), 'SpendingScore'] = score_mean\n",
    "\n",
    "# 이상치 처리 후 다시 확인\n",
    "print(\"\\n=== 이상치 처리 후 확인 ===\")\n",
    "print(f\"최소/최대 Age: {df['Age'].min()} ~ {df['Age'].max()}\")\n",
    "print(f\"최소/최대 AnnualIncome: {df['AnnualIncome'].min()} ~ {df['AnnualIncome'].max()}\")\n",
    "print(f\"최소/최대 SpendingScore: {df['SpendingScore'].min()} ~ {df['SpendingScore'].max()}\")"
   ]
  },
  {
   "cell_type": "code",
   "execution_count": 6,
   "id": "ea3734b6",
   "metadata": {},
   "outputs": [
    {
     "name": "stdout",
     "output_type": "stream",
     "text": [
      "     CustomerID   Age  AnnualIncome  SpendingScore  PurchaseHistory\n",
      "0             1  47.0          63.0             19               12\n",
      "1             2  31.0          73.0             67                7\n",
      "2             3  43.0          85.5              1               17\n",
      "3             4  33.0          66.0             71               15\n",
      "4             5  22.0         127.0             61               11\n",
      "..          ...   ...           ...            ...              ...\n",
      "995         996  63.0         102.0             12               19\n",
      "996         997  55.0          20.0             11                7\n",
      "997         998  49.0         102.0             39                5\n",
      "998         999  21.0         135.0             15               17\n",
      "999        1000  29.0         108.0             30                3\n",
      "\n",
      "[1000 rows x 5 columns]\n"
     ]
    }
   ],
   "source": [
    "print(df)"
   ]
  },
  {
   "cell_type": "code",
   "execution_count": null,
   "id": "91dbecde",
   "metadata": {},
   "outputs": [],
   "source": []
  }
 ],
 "metadata": {
  "kernelspec": {
   "display_name": "Python 3",
   "language": "python",
   "name": "python3"
  },
  "language_info": {
   "codemirror_mode": {
    "name": "ipython",
    "version": 3
   },
   "file_extension": ".py",
   "mimetype": "text/x-python",
   "name": "python",
   "nbconvert_exporter": "python",
   "pygments_lexer": "ipython3",
   "version": "3.11.9"
  }
 },
 "nbformat": 4,
 "nbformat_minor": 5
}
