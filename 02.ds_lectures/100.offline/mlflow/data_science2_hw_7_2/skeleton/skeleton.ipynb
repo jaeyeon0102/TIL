{
 "cells": [
  {
   "cell_type": "code",
   "execution_count": 2,
   "id": "38a0a8de",
   "metadata": {},
   "outputs": [],
   "source": [
    "import pandas as pd\n",
    "import numpy as np\n",
    "from sklearn.model_selection import train_test_split\n",
    "from sklearn.compose import ColumnTransformer\n",
    "from sklearn.preprocessing import StandardScaler, OneHotEncoder\n",
    "from sklearn.metrics import roc_auc_score\n",
    "import xgboost as xgb\n",
    "from hyperopt import hp, fmin, tpe, Trials, STATUS_OK\n",
    "import mlflow\n",
    "import mlflow.sklearn\n",
    "mlflow.set_tracking_uri(\"http://127.0.0.1:5000\")\n",
    "\n",
    "# 데이터 로딩\n",
    "data = pd.read_csv('../data/dataset.csv')"
   ]
  },
  {
   "cell_type": "code",
   "execution_count": 3,
   "id": "038fe846",
   "metadata": {},
   "outputs": [],
   "source": [
    "# 예측 타겟과 특성 분리\n",
    "X = data.drop('Default', axis=1)\n",
    "y = data['Default']"
   ]
  },
  {
   "cell_type": "code",
   "execution_count": 4,
   "id": "44b8c7c8",
   "metadata": {},
   "outputs": [],
   "source": [
    "# 범주형과 수치형 컬럼 구분\n",
    "categorical_cols = ['State', 'BankState', 'NewExist', 'UrbanRural', 'RealEstate']\n",
    "numerical_cols = ['DisbursementGross', 'GrAppv', 'daysterm']\n"
   ]
  },
  {
   "cell_type": "code",
   "execution_count": 5,
   "id": "9d3b2f9a",
   "metadata": {},
   "outputs": [],
   "source": [
    "# 데이터 전처리 파이프라인 구성\n",
    "preprocessor = ColumnTransformer(transformers=[\n",
    "    ('num', StandardScaler(), numerical_cols),\n",
    "    ('cat', OneHotEncoder(handle_unknown='ignore'), categorical_cols)\n",
    "])"
   ]
  },
  {
   "cell_type": "code",
   "execution_count": 6,
   "id": "9ea01fe9",
   "metadata": {},
   "outputs": [],
   "source": [
    "# 데이터 전처리 실행\n",
    "X_processed = preprocessor.fit_transform(X)"
   ]
  },
  {
   "cell_type": "code",
   "execution_count": 7,
   "id": "e3f81cc4",
   "metadata": {},
   "outputs": [],
   "source": [
    "# 데이터 분할\n",
    "X_train, X_test, y_train, y_test = train_test_split(X_processed, y, test_size=0.2, random_state=42)\n",
    "\n",
    "# 하이퍼파라미터 탐색 공간 설정\n",
    "space = {\n",
    "    'max_depth': hp.choice('max_depth', range(3, 10)),\n",
    "    'learning_rate': hp.uniform('learning_rate', 0.01, 0.2),\n",
    "    'n_estimators': hp.choice('n_estimators', range(50, 200)),\n",
    "    'gamma': hp.uniform('gamma', 0, 5)\n",
    "}"
   ]
  },
  {
   "cell_type": "code",
   "execution_count": 8,
   "id": "6dcd04d7",
   "metadata": {},
   "outputs": [],
   "source": [
    "# 최적화를 위한 목적 함수 정의\n",
    "def objective(params):\n",
    "    # MLflow에 실험 이름 설정\n",
    "    mlflow.set_experiment(\"assignment1\")\n",
    "\n",
    "    # 각 하이퍼파라미터 조합별 실험 시작\n",
    "    with mlflow.start_run(nested=True):\n",
    "        # XGBoost 모델 초기화 및 훈련\n",
    "        model = xgb.XGBClassifier(eval_metric='logloss', use_label_encoder=False, **params)\n",
    "        model.fit(X_train, y_train)\n",
    "\n",
    "        # 예측 확률 및 ROC-AUC 계산\n",
    "        probs = model.predict_proba(X_test)[:, 1]\n",
    "        auc = roc_auc_score(y_test, probs)\n",
    "\n",
    "        # MLflow에 파라미터 및 메트릭 로깅\n",
    "        mlflow.log_params(params)\n",
    "        mlflow.log_metric(\"roc_auc\", auc)\n",
    "\n",
    "        # 목적 함수 결과 반환 (손실 최소화)\n",
    "        return {'loss': -auc, 'status': STATUS_OK}\n"
   ]
  },
  {
   "cell_type": "code",
   "execution_count": 9,
   "id": "7cb82441",
   "metadata": {},
   "outputs": [
    {
     "name": "stdout",
     "output_type": "stream",
     "text": [
      "  0%|          | 0/30 [00:00<?, ?trial/s, best loss=?]"
     ]
    },
    {
     "name": "stderr",
     "output_type": "stream",
     "text": [
      "2025/10/10 17:17:41 INFO mlflow.tracking.fluent: Experiment with name 'assignment1' does not exist. Creating a new experiment.\n",
      "\n",
      "c:\\Users\\SSAFY\\AppData\\Local\\Programs\\Python\\Python311\\Lib\\site-packages\\xgboost\\core.py:158: UserWarning: [17:17:42] WARNING: C:\\buildkite-agent\\builds\\buildkite-windows-cpu-autoscaling-group-i-08cbc0333d8d4aae1-1\\xgboost\\xgboost-ci-windows\\src\\learner.cc:740: \n",
      "Parameters: { \"use_label_encoder\" } are not used.\n",
      "\n",
      "  warnings.warn(smsg, UserWarning)\n",
      "\n"
     ]
    },
    {
     "name": "stdout",
     "output_type": "stream",
     "text": [
      "🏃 View run ambitious-doe-833 at: http://127.0.0.1:5000/#/experiments/1/runs/033af9502d5a406496f7107675748b8e\n",
      "\n",
      "🧪 View experiment at: http://127.0.0.1:5000/#/experiments/1\n",
      "\n",
      "  3%|▎         | 1/30 [00:02<01:26,  3.00s/trial, best loss: -0.9727997227997228]"
     ]
    },
    {
     "name": "stderr",
     "output_type": "stream",
     "text": [
      "c:\\Users\\SSAFY\\AppData\\Local\\Programs\\Python\\Python311\\Lib\\site-packages\\xgboost\\core.py:158: UserWarning: [17:17:42] WARNING: C:\\buildkite-agent\\builds\\buildkite-windows-cpu-autoscaling-group-i-08cbc0333d8d4aae1-1\\xgboost\\xgboost-ci-windows\\src\\learner.cc:740: \n",
      "Parameters: { \"use_label_encoder\" } are not used.\n",
      "\n",
      "  warnings.warn(smsg, UserWarning)\n",
      "\n"
     ]
    },
    {
     "name": "stdout",
     "output_type": "stream",
     "text": [
      "🏃 View run thoughtful-fowl-281 at: http://127.0.0.1:5000/#/experiments/1/runs/2b0a3cb0899b4f20a84ed0ac641f7800\n",
      "\n",
      "🧪 View experiment at: http://127.0.0.1:5000/#/experiments/1                     \n",
      "\n",
      "  7%|▋         | 2/30 [00:03<00:40,  1.44s/trial, best loss: -0.9754479754479755]"
     ]
    },
    {
     "name": "stderr",
     "output_type": "stream",
     "text": [
      "c:\\Users\\SSAFY\\AppData\\Local\\Programs\\Python\\Python311\\Lib\\site-packages\\xgboost\\core.py:158: UserWarning: [17:17:42] WARNING: C:\\buildkite-agent\\builds\\buildkite-windows-cpu-autoscaling-group-i-08cbc0333d8d4aae1-1\\xgboost\\xgboost-ci-windows\\src\\learner.cc:740: \n",
      "Parameters: { \"use_label_encoder\" } are not used.\n",
      "\n",
      "  warnings.warn(smsg, UserWarning)\n",
      "\n"
     ]
    },
    {
     "name": "stdout",
     "output_type": "stream",
     "text": [
      "🏃 View run treasured-pug-219 at: http://127.0.0.1:5000/#/experiments/1/runs/e406c891acb841cfa88c20d5a6a74b1e\n",
      "\n",
      "🧪 View experiment at: http://127.0.0.1:5000/#/experiments/1                     \n",
      "\n",
      " 10%|█         | 3/30 [00:03<00:24,  1.10trial/s, best loss: -0.9754479754479755]"
     ]
    },
    {
     "name": "stderr",
     "output_type": "stream",
     "text": [
      "c:\\Users\\SSAFY\\AppData\\Local\\Programs\\Python\\Python311\\Lib\\site-packages\\xgboost\\core.py:158: UserWarning: [17:17:43] WARNING: C:\\buildkite-agent\\builds\\buildkite-windows-cpu-autoscaling-group-i-08cbc0333d8d4aae1-1\\xgboost\\xgboost-ci-windows\\src\\learner.cc:740: \n",
      "Parameters: { \"use_label_encoder\" } are not used.\n",
      "\n",
      "  warnings.warn(smsg, UserWarning)\n",
      "\n"
     ]
    },
    {
     "name": "stdout",
     "output_type": "stream",
     "text": [
      "🏃 View run smiling-goose-394 at: http://127.0.0.1:5000/#/experiments/1/runs/f201e1b1d8704a9d9a6e23442d9ea926\n",
      "\n",
      "🧪 View experiment at: http://127.0.0.1:5000/#/experiments/1                     \n",
      "\n",
      " 13%|█▎        | 4/30 [00:03<00:17,  1.48trial/s, best loss: -0.9754479754479755]"
     ]
    },
    {
     "name": "stderr",
     "output_type": "stream",
     "text": [
      "c:\\Users\\SSAFY\\AppData\\Local\\Programs\\Python\\Python311\\Lib\\site-packages\\xgboost\\core.py:158: UserWarning: [17:17:43] WARNING: C:\\buildkite-agent\\builds\\buildkite-windows-cpu-autoscaling-group-i-08cbc0333d8d4aae1-1\\xgboost\\xgboost-ci-windows\\src\\learner.cc:740: \n",
      "Parameters: { \"use_label_encoder\" } are not used.\n",
      "\n",
      "  warnings.warn(smsg, UserWarning)\n",
      "\n"
     ]
    },
    {
     "name": "stdout",
     "output_type": "stream",
     "text": [
      "🏃 View run delicate-lynx-687 at: http://127.0.0.1:5000/#/experiments/1/runs/cd542d0714e44fd392083b79ca652f1a\n",
      "\n",
      "🧪 View experiment at: http://127.0.0.1:5000/#/experiments/1                     \n",
      "\n",
      " 17%|█▋        | 5/30 [00:04<00:13,  1.90trial/s, best loss: -0.9757573507573507]"
     ]
    },
    {
     "name": "stderr",
     "output_type": "stream",
     "text": [
      "c:\\Users\\SSAFY\\AppData\\Local\\Programs\\Python\\Python311\\Lib\\site-packages\\xgboost\\core.py:158: UserWarning: [17:17:43] WARNING: C:\\buildkite-agent\\builds\\buildkite-windows-cpu-autoscaling-group-i-08cbc0333d8d4aae1-1\\xgboost\\xgboost-ci-windows\\src\\learner.cc:740: \n",
      "Parameters: { \"use_label_encoder\" } are not used.\n",
      "\n",
      "  warnings.warn(smsg, UserWarning)\n",
      "\n"
     ]
    },
    {
     "name": "stdout",
     "output_type": "stream",
     "text": [
      "🏃 View run incongruous-newt-281 at: http://127.0.0.1:5000/#/experiments/1/runs/aed60971e88e4d43aecb6bf9a161e769\n",
      "\n",
      "🧪 View experiment at: http://127.0.0.1:5000/#/experiments/1                     \n",
      "\n",
      " 20%|██        | 6/30 [00:04<00:10,  2.26trial/s, best loss: -0.9757573507573507]"
     ]
    },
    {
     "name": "stderr",
     "output_type": "stream",
     "text": [
      "c:\\Users\\SSAFY\\AppData\\Local\\Programs\\Python\\Python311\\Lib\\site-packages\\xgboost\\core.py:158: UserWarning: [17:17:43] WARNING: C:\\buildkite-agent\\builds\\buildkite-windows-cpu-autoscaling-group-i-08cbc0333d8d4aae1-1\\xgboost\\xgboost-ci-windows\\src\\learner.cc:740: \n",
      "Parameters: { \"use_label_encoder\" } are not used.\n",
      "\n",
      "  warnings.warn(smsg, UserWarning)\n",
      "\n"
     ]
    },
    {
     "name": "stdout",
     "output_type": "stream",
     "text": [
      "🏃 View run defiant-pug-626 at: http://127.0.0.1:5000/#/experiments/1/runs/4beaeacf00044b0580bbe9f1d8abcb37\n",
      "\n",
      "🧪 View experiment at: http://127.0.0.1:5000/#/experiments/1                     \n",
      "\n",
      " 23%|██▎       | 7/30 [00:04<00:08,  2.59trial/s, best loss: -0.9757573507573507]"
     ]
    },
    {
     "name": "stderr",
     "output_type": "stream",
     "text": [
      "c:\\Users\\SSAFY\\AppData\\Local\\Programs\\Python\\Python311\\Lib\\site-packages\\xgboost\\core.py:158: UserWarning: [17:17:44] WARNING: C:\\buildkite-agent\\builds\\buildkite-windows-cpu-autoscaling-group-i-08cbc0333d8d4aae1-1\\xgboost\\xgboost-ci-windows\\src\\learner.cc:740: \n",
      "Parameters: { \"use_label_encoder\" } are not used.\n",
      "\n",
      "  warnings.warn(smsg, UserWarning)\n",
      "\n"
     ]
    },
    {
     "name": "stdout",
     "output_type": "stream",
     "text": [
      "🏃 View run delightful-frog-542 at: http://127.0.0.1:5000/#/experiments/1/runs/b69f35fdf56342cd9b2de531e1a3a58a\n",
      "\n",
      "🧪 View experiment at: http://127.0.0.1:5000/#/experiments/1                     \n",
      "\n",
      " 27%|██▋       | 8/30 [00:05<00:07,  2.80trial/s, best loss: -0.9757573507573507]"
     ]
    },
    {
     "name": "stderr",
     "output_type": "stream",
     "text": [
      "c:\\Users\\SSAFY\\AppData\\Local\\Programs\\Python\\Python311\\Lib\\site-packages\\xgboost\\core.py:158: UserWarning: [17:17:44] WARNING: C:\\buildkite-agent\\builds\\buildkite-windows-cpu-autoscaling-group-i-08cbc0333d8d4aae1-1\\xgboost\\xgboost-ci-windows\\src\\learner.cc:740: \n",
      "Parameters: { \"use_label_encoder\" } are not used.\n",
      "\n",
      "  warnings.warn(smsg, UserWarning)\n",
      "\n"
     ]
    },
    {
     "name": "stdout",
     "output_type": "stream",
     "text": [
      "🏃 View run fortunate-conch-350 at: http://127.0.0.1:5000/#/experiments/1/runs/0bdbc3d46f604f9e9c226661774a8ae5\n",
      "\n",
      "🧪 View experiment at: http://127.0.0.1:5000/#/experiments/1                     \n",
      "\n",
      " 30%|███       | 9/30 [00:05<00:07,  2.85trial/s, best loss: -0.9791604791604792]"
     ]
    },
    {
     "name": "stderr",
     "output_type": "stream",
     "text": [
      "c:\\Users\\SSAFY\\AppData\\Local\\Programs\\Python\\Python311\\Lib\\site-packages\\xgboost\\core.py:158: UserWarning: [17:17:44] WARNING: C:\\buildkite-agent\\builds\\buildkite-windows-cpu-autoscaling-group-i-08cbc0333d8d4aae1-1\\xgboost\\xgboost-ci-windows\\src\\learner.cc:740: \n",
      "Parameters: { \"use_label_encoder\" } are not used.\n",
      "\n",
      "  warnings.warn(smsg, UserWarning)\n",
      "\n"
     ]
    },
    {
     "name": "stdout",
     "output_type": "stream",
     "text": [
      "🏃 View run polite-calf-121 at: http://127.0.0.1:5000/#/experiments/1/runs/63323b7a5a7b4928b6d49892a09833f8\n",
      "\n",
      "🧪 View experiment at: http://127.0.0.1:5000/#/experiments/1                     \n",
      "\n",
      "🏃 View run placid-frog-910 at: http://127.0.0.1:5000/#/experiments/1/runs/16dc08ef18fe4a93b04ebf69a6bb11c1\n",
      "\n",
      " 33%|███▎      | 10/30 [00:05<00:06,  2.94trial/s, best loss: -0.9791604791604792]"
     ]
    },
    {
     "name": "stderr",
     "output_type": "stream",
     "text": [
      "c:\\Users\\SSAFY\\AppData\\Local\\Programs\\Python\\Python311\\Lib\\site-packages\\xgboost\\core.py:158: UserWarning: [17:17:45] WARNING: C:\\buildkite-agent\\builds\\buildkite-windows-cpu-autoscaling-group-i-08cbc0333d8d4aae1-1\\xgboost\\xgboost-ci-windows\\src\\learner.cc:740: \n",
      "Parameters: { \"use_label_encoder\" } are not used.\n",
      "\n",
      "  warnings.warn(smsg, UserWarning)\n",
      "\n"
     ]
    },
    {
     "name": "stdout",
     "output_type": "stream",
     "text": [
      "🧪 View experiment at: http://127.0.0.1:5000/#/experiments/1                      \n",
      "\n",
      " 37%|███▋      | 11/30 [00:05<00:05,  3.19trial/s, best loss: -0.9791604791604792]"
     ]
    },
    {
     "name": "stderr",
     "output_type": "stream",
     "text": [
      "c:\\Users\\SSAFY\\AppData\\Local\\Programs\\Python\\Python311\\Lib\\site-packages\\xgboost\\core.py:158: UserWarning: [17:17:45] WARNING: C:\\buildkite-agent\\builds\\buildkite-windows-cpu-autoscaling-group-i-08cbc0333d8d4aae1-1\\xgboost\\xgboost-ci-windows\\src\\learner.cc:740: \n",
      "Parameters: { \"use_label_encoder\" } are not used.\n",
      "\n",
      "  warnings.warn(smsg, UserWarning)\n",
      "\n"
     ]
    },
    {
     "name": "stdout",
     "output_type": "stream",
     "text": [
      "🏃 View run indecisive-shoat-885 at: http://127.0.0.1:5000/#/experiments/1/runs/277729522bbe4d129d5c4851b359081d\n",
      "\n",
      "🧪 View experiment at: http://127.0.0.1:5000/#/experiments/1                      \n",
      "\n",
      " 40%|████      | 12/30 [00:06<00:05,  3.22trial/s, best loss: -0.9791604791604792]"
     ]
    },
    {
     "name": "stderr",
     "output_type": "stream",
     "text": [
      "c:\\Users\\SSAFY\\AppData\\Local\\Programs\\Python\\Python311\\Lib\\site-packages\\xgboost\\core.py:158: UserWarning: [17:17:45] WARNING: C:\\buildkite-agent\\builds\\buildkite-windows-cpu-autoscaling-group-i-08cbc0333d8d4aae1-1\\xgboost\\xgboost-ci-windows\\src\\learner.cc:740: \n",
      "Parameters: { \"use_label_encoder\" } are not used.\n",
      "\n",
      "  warnings.warn(smsg, UserWarning)\n",
      "\n"
     ]
    },
    {
     "name": "stdout",
     "output_type": "stream",
     "text": [
      "🏃 View run overjoyed-shoat-582 at: http://127.0.0.1:5000/#/experiments/1/runs/43d5c38cfa84450cb7c315491f3c5dcc\n",
      "\n",
      "🧪 View experiment at: http://127.0.0.1:5000/#/experiments/1                      \n",
      "\n",
      " 43%|████▎     | 13/30 [00:06<00:05,  3.36trial/s, best loss: -0.9791604791604792]"
     ]
    },
    {
     "name": "stderr",
     "output_type": "stream",
     "text": [
      "c:\\Users\\SSAFY\\AppData\\Local\\Programs\\Python\\Python311\\Lib\\site-packages\\xgboost\\core.py:158: UserWarning: [17:17:45] WARNING: C:\\buildkite-agent\\builds\\buildkite-windows-cpu-autoscaling-group-i-08cbc0333d8d4aae1-1\\xgboost\\xgboost-ci-windows\\src\\learner.cc:740: \n",
      "Parameters: { \"use_label_encoder\" } are not used.\n",
      "\n",
      "  warnings.warn(smsg, UserWarning)\n",
      "\n"
     ]
    },
    {
     "name": "stdout",
     "output_type": "stream",
     "text": [
      "🏃 View run marvelous-vole-81 at: http://127.0.0.1:5000/#/experiments/1/runs/c7e7fb02e0454ef6bbea09ae350ac691\n",
      "\n",
      "🧪 View experiment at: http://127.0.0.1:5000/#/experiments/1                      \n",
      "\n",
      "🏃 View run puzzled-colt-602 at: http://127.0.0.1:5000/#/experiments/1/runs/e89c9f331e0842ddb493a2d4ac67df08\n",
      "\n",
      "🧪 View experiment at: http://127.0.0.1:5000/#/experiments/1                      \n",
      "\n",
      " 50%|█████     | 15/30 [00:07<00:04,  3.44trial/s, best loss: -0.9791604791604792]"
     ]
    },
    {
     "name": "stderr",
     "output_type": "stream",
     "text": [
      "c:\\Users\\SSAFY\\AppData\\Local\\Programs\\Python\\Python311\\Lib\\site-packages\\xgboost\\core.py:158: UserWarning: [17:17:46] WARNING: C:\\buildkite-agent\\builds\\buildkite-windows-cpu-autoscaling-group-i-08cbc0333d8d4aae1-1\\xgboost\\xgboost-ci-windows\\src\\learner.cc:740: \n",
      "Parameters: { \"use_label_encoder\" } are not used.\n",
      "\n",
      "  warnings.warn(smsg, UserWarning)\n",
      "\n",
      "c:\\Users\\SSAFY\\AppData\\Local\\Programs\\Python\\Python311\\Lib\\site-packages\\xgboost\\core.py:158: UserWarning: [17:17:46] WARNING: C:\\buildkite-agent\\builds\\buildkite-windows-cpu-autoscaling-group-i-08cbc0333d8d4aae1-1\\xgboost\\xgboost-ci-windows\\src\\learner.cc:740: \n",
      "Parameters: { \"use_label_encoder\" } are not used.\n",
      "\n",
      "  warnings.warn(smsg, UserWarning)\n",
      "\n"
     ]
    },
    {
     "name": "stdout",
     "output_type": "stream",
     "text": [
      "🏃 View run caring-wolf-276 at: http://127.0.0.1:5000/#/experiments/1/runs/17556b401a97432a9317e9788ef38d63\n",
      "\n",
      "🧪 View experiment at: http://127.0.0.1:5000/#/experiments/1                      \n",
      "\n",
      "🏃 View run unequaled-shrimp-538 at: http://127.0.0.1:5000/#/experiments/1/runs/5495f29711f7439ba7be15b1400217f2\n",
      "\n",
      "🧪 View experiment at: http://127.0.0.1:5000/#/experiments/1                      \n",
      "\n",
      " 57%|█████▋    | 17/30 [00:07<00:03,  3.69trial/s, best loss: -0.9796802296802296]"
     ]
    },
    {
     "name": "stderr",
     "output_type": "stream",
     "text": [
      "c:\\Users\\SSAFY\\AppData\\Local\\Programs\\Python\\Python311\\Lib\\site-packages\\xgboost\\core.py:158: UserWarning: [17:17:46] WARNING: C:\\buildkite-agent\\builds\\buildkite-windows-cpu-autoscaling-group-i-08cbc0333d8d4aae1-1\\xgboost\\xgboost-ci-windows\\src\\learner.cc:740: \n",
      "Parameters: { \"use_label_encoder\" } are not used.\n",
      "\n",
      "  warnings.warn(smsg, UserWarning)\n",
      "\n",
      "c:\\Users\\SSAFY\\AppData\\Local\\Programs\\Python\\Python311\\Lib\\site-packages\\xgboost\\core.py:158: UserWarning: [17:17:46] WARNING: C:\\buildkite-agent\\builds\\buildkite-windows-cpu-autoscaling-group-i-08cbc0333d8d4aae1-1\\xgboost\\xgboost-ci-windows\\src\\learner.cc:740: \n",
      "Parameters: { \"use_label_encoder\" } are not used.\n",
      "\n",
      "  warnings.warn(smsg, UserWarning)\n",
      "\n"
     ]
    },
    {
     "name": "stdout",
     "output_type": "stream",
     "text": [
      "🏃 View run dazzling-snake-985 at: http://127.0.0.1:5000/#/experiments/1/runs/fa1909e4b8fa41b592cf16d015cd83f9\n",
      "\n",
      "🧪 View experiment at: http://127.0.0.1:5000/#/experiments/1                      \n",
      "\n",
      " 60%|██████    | 18/30 [00:07<00:03,  3.69trial/s, best loss: -0.9796802296802296]"
     ]
    },
    {
     "name": "stderr",
     "output_type": "stream",
     "text": [
      "c:\\Users\\SSAFY\\AppData\\Local\\Programs\\Python\\Python311\\Lib\\site-packages\\xgboost\\core.py:158: UserWarning: [17:17:47] WARNING: C:\\buildkite-agent\\builds\\buildkite-windows-cpu-autoscaling-group-i-08cbc0333d8d4aae1-1\\xgboost\\xgboost-ci-windows\\src\\learner.cc:740: \n",
      "Parameters: { \"use_label_encoder\" } are not used.\n",
      "\n",
      "  warnings.warn(smsg, UserWarning)\n",
      "\n"
     ]
    },
    {
     "name": "stdout",
     "output_type": "stream",
     "text": [
      "🏃 View run peaceful-shrike-2 at: http://127.0.0.1:5000/#/experiments/1/runs/451286f9890547f883c6017be5f51568\n",
      "\n",
      "🧪 View experiment at: http://127.0.0.1:5000/#/experiments/1                      \n",
      "\n",
      " 63%|██████▎   | 19/30 [00:08<00:02,  3.69trial/s, best loss: -0.9796802296802296]"
     ]
    },
    {
     "name": "stderr",
     "output_type": "stream",
     "text": [
      "c:\\Users\\SSAFY\\AppData\\Local\\Programs\\Python\\Python311\\Lib\\site-packages\\xgboost\\core.py:158: UserWarning: [17:17:47] WARNING: C:\\buildkite-agent\\builds\\buildkite-windows-cpu-autoscaling-group-i-08cbc0333d8d4aae1-1\\xgboost\\xgboost-ci-windows\\src\\learner.cc:740: \n",
      "Parameters: { \"use_label_encoder\" } are not used.\n",
      "\n",
      "  warnings.warn(smsg, UserWarning)\n",
      "\n"
     ]
    },
    {
     "name": "stdout",
     "output_type": "stream",
     "text": [
      "🏃 View run overjoyed-fowl-978 at: http://127.0.0.1:5000/#/experiments/1/runs/2eea78682ff8461aa3a82c46b5110a0d\n",
      "\n",
      "🧪 View experiment at: http://127.0.0.1:5000/#/experiments/1                      \n",
      "\n",
      " 67%|██████▋   | 20/30 [00:08<00:02,  3.72trial/s, best loss: -0.9796802296802296]"
     ]
    },
    {
     "name": "stderr",
     "output_type": "stream",
     "text": [
      "c:\\Users\\SSAFY\\AppData\\Local\\Programs\\Python\\Python311\\Lib\\site-packages\\xgboost\\core.py:158: UserWarning: [17:17:47] WARNING: C:\\buildkite-agent\\builds\\buildkite-windows-cpu-autoscaling-group-i-08cbc0333d8d4aae1-1\\xgboost\\xgboost-ci-windows\\src\\learner.cc:740: \n",
      "Parameters: { \"use_label_encoder\" } are not used.\n",
      "\n",
      "  warnings.warn(smsg, UserWarning)\n",
      "\n"
     ]
    },
    {
     "name": "stdout",
     "output_type": "stream",
     "text": [
      "🏃 View run rogue-mink-865 at: http://127.0.0.1:5000/#/experiments/1/runs/93ab22a3dc074125aae2908f9ec5f743\n",
      "\n",
      "🧪 View experiment at: http://127.0.0.1:5000/#/experiments/1                      \n",
      "\n",
      " 70%|███████   | 21/30 [00:08<00:02,  3.34trial/s, best loss: -0.9796802296802296]"
     ]
    },
    {
     "name": "stderr",
     "output_type": "stream",
     "text": [
      "c:\\Users\\SSAFY\\AppData\\Local\\Programs\\Python\\Python311\\Lib\\site-packages\\xgboost\\core.py:158: UserWarning: [17:17:48] WARNING: C:\\buildkite-agent\\builds\\buildkite-windows-cpu-autoscaling-group-i-08cbc0333d8d4aae1-1\\xgboost\\xgboost-ci-windows\\src\\learner.cc:740: \n",
      "Parameters: { \"use_label_encoder\" } are not used.\n",
      "\n",
      "  warnings.warn(smsg, UserWarning)\n",
      "\n"
     ]
    },
    {
     "name": "stdout",
     "output_type": "stream",
     "text": [
      "🏃 View run chill-shrike-953 at: http://127.0.0.1:5000/#/experiments/1/runs/bee15fd53ac74a51a231c42d7b3946b3\n",
      "\n",
      "🧪 View experiment at: http://127.0.0.1:5000/#/experiments/1                      \n",
      "\n",
      " 73%|███████▎  | 22/30 [00:09<00:02,  3.45trial/s, best loss: -0.9797049797049796]"
     ]
    },
    {
     "name": "stderr",
     "output_type": "stream",
     "text": [
      "c:\\Users\\SSAFY\\AppData\\Local\\Programs\\Python\\Python311\\Lib\\site-packages\\xgboost\\core.py:158: UserWarning: [17:17:48] WARNING: C:\\buildkite-agent\\builds\\buildkite-windows-cpu-autoscaling-group-i-08cbc0333d8d4aae1-1\\xgboost\\xgboost-ci-windows\\src\\learner.cc:740: \n",
      "Parameters: { \"use_label_encoder\" } are not used.\n",
      "\n",
      "  warnings.warn(smsg, UserWarning)\n",
      "\n"
     ]
    },
    {
     "name": "stdout",
     "output_type": "stream",
     "text": [
      "🏃 View run marvelous-panda-620 at: http://127.0.0.1:5000/#/experiments/1/runs/2406cad4092f4523a1f19bf5831c6727\n",
      "\n",
      "🧪 View experiment at: http://127.0.0.1:5000/#/experiments/1                      \n",
      "\n",
      "🏃 View run secretive-wasp-890 at: http://127.0.0.1:5000/#/experiments/1/runs/2e2ee2c9afcb4bb1ae3eafc986a6a3f9\n",
      "\n",
      "🧪 View experiment at: http://127.0.0.1:5000/#/experiments/1                      \n",
      "\n",
      " 80%|████████  | 24/30 [00:09<00:01,  3.50trial/s, best loss: -0.9797049797049796]"
     ]
    },
    {
     "name": "stderr",
     "output_type": "stream",
     "text": [
      "c:\\Users\\SSAFY\\AppData\\Local\\Programs\\Python\\Python311\\Lib\\site-packages\\xgboost\\core.py:158: UserWarning: [17:17:48] WARNING: C:\\buildkite-agent\\builds\\buildkite-windows-cpu-autoscaling-group-i-08cbc0333d8d4aae1-1\\xgboost\\xgboost-ci-windows\\src\\learner.cc:740: \n",
      "Parameters: { \"use_label_encoder\" } are not used.\n",
      "\n",
      "  warnings.warn(smsg, UserWarning)\n",
      "\n",
      "c:\\Users\\SSAFY\\AppData\\Local\\Programs\\Python\\Python311\\Lib\\site-packages\\xgboost\\core.py:158: UserWarning: [17:17:49] WARNING: C:\\buildkite-agent\\builds\\buildkite-windows-cpu-autoscaling-group-i-08cbc0333d8d4aae1-1\\xgboost\\xgboost-ci-windows\\src\\learner.cc:740: \n",
      "Parameters: { \"use_label_encoder\" } are not used.\n",
      "\n",
      "  warnings.warn(smsg, UserWarning)\n",
      "\n"
     ]
    },
    {
     "name": "stdout",
     "output_type": "stream",
     "text": [
      "🏃 View run receptive-bass-584 at: http://127.0.0.1:5000/#/experiments/1/runs/00db1d2783ec478e930ca7e30dbf09b0\n",
      "\n",
      "🧪 View experiment at: http://127.0.0.1:5000/#/experiments/1                      \n",
      "\n",
      " 83%|████████▎ | 25/30 [00:09<00:01,  3.47trial/s, best loss: -0.9797049797049796]"
     ]
    },
    {
     "name": "stderr",
     "output_type": "stream",
     "text": [
      "c:\\Users\\SSAFY\\AppData\\Local\\Programs\\Python\\Python311\\Lib\\site-packages\\xgboost\\core.py:158: UserWarning: [17:17:49] WARNING: C:\\buildkite-agent\\builds\\buildkite-windows-cpu-autoscaling-group-i-08cbc0333d8d4aae1-1\\xgboost\\xgboost-ci-windows\\src\\learner.cc:740: \n",
      "Parameters: { \"use_label_encoder\" } are not used.\n",
      "\n",
      "  warnings.warn(smsg, UserWarning)\n",
      "\n"
     ]
    },
    {
     "name": "stdout",
     "output_type": "stream",
     "text": [
      "🏃 View run traveling-loon-474 at: http://127.0.0.1:5000/#/experiments/1/runs/a3045c69dcad4cfe9ce439f4cbbe5ab3\n",
      "\n",
      "🧪 View experiment at: http://127.0.0.1:5000/#/experiments/1                      \n",
      "\n",
      "🏃 View run beautiful-squid-705 at: http://127.0.0.1:5000/#/experiments/1/runs/3eddc7a8b19b40cd90187f0fec036d0b\n",
      "\n",
      "🧪 View experiment at: http://127.0.0.1:5000/#/experiments/1                      \n",
      "\n",
      " 90%|█████████ | 27/30 [00:10<00:00,  3.71trial/s, best loss: -0.9797049797049796]"
     ]
    },
    {
     "name": "stderr",
     "output_type": "stream",
     "text": [
      "c:\\Users\\SSAFY\\AppData\\Local\\Programs\\Python\\Python311\\Lib\\site-packages\\xgboost\\core.py:158: UserWarning: [17:17:49] WARNING: C:\\buildkite-agent\\builds\\buildkite-windows-cpu-autoscaling-group-i-08cbc0333d8d4aae1-1\\xgboost\\xgboost-ci-windows\\src\\learner.cc:740: \n",
      "Parameters: { \"use_label_encoder\" } are not used.\n",
      "\n",
      "  warnings.warn(smsg, UserWarning)\n",
      "\n"
     ]
    },
    {
     "name": "stdout",
     "output_type": "stream",
     "text": [
      "🏃 View run resilient-worm-491 at: http://127.0.0.1:5000/#/experiments/1/runs/074fe10d73ca4b4fbed47fd5921f6830\n",
      "\n",
      "🧪 View experiment at: http://127.0.0.1:5000/#/experiments/1                      \n",
      "\n",
      " 93%|█████████▎| 28/30 [00:10<00:00,  3.72trial/s, best loss: -0.9797049797049796]"
     ]
    },
    {
     "name": "stderr",
     "output_type": "stream",
     "text": [
      "c:\\Users\\SSAFY\\AppData\\Local\\Programs\\Python\\Python311\\Lib\\site-packages\\xgboost\\core.py:158: UserWarning: [17:17:49] WARNING: C:\\buildkite-agent\\builds\\buildkite-windows-cpu-autoscaling-group-i-08cbc0333d8d4aae1-1\\xgboost\\xgboost-ci-windows\\src\\learner.cc:740: \n",
      "Parameters: { \"use_label_encoder\" } are not used.\n",
      "\n",
      "  warnings.warn(smsg, UserWarning)\n",
      "\n",
      "c:\\Users\\SSAFY\\AppData\\Local\\Programs\\Python\\Python311\\Lib\\site-packages\\xgboost\\core.py:158: UserWarning: [17:17:50] WARNING: C:\\buildkite-agent\\builds\\buildkite-windows-cpu-autoscaling-group-i-08cbc0333d8d4aae1-1\\xgboost\\xgboost-ci-windows\\src\\learner.cc:740: \n",
      "Parameters: { \"use_label_encoder\" } are not used.\n",
      "\n",
      "  warnings.warn(smsg, UserWarning)\n",
      "\n"
     ]
    },
    {
     "name": "stdout",
     "output_type": "stream",
     "text": [
      "🏃 View run efficient-cod-912 at: http://127.0.0.1:5000/#/experiments/1/runs/b9900762b3e945c6aeace268e6dd259a\n",
      "\n",
      "🧪 View experiment at: http://127.0.0.1:5000/#/experiments/1                      \n",
      "\n",
      " 97%|█████████▋| 29/30 [00:11<00:00,  3.47trial/s, best loss: -0.9797049797049796]"
     ]
    },
    {
     "name": "stderr",
     "output_type": "stream",
     "text": [
      "c:\\Users\\SSAFY\\AppData\\Local\\Programs\\Python\\Python311\\Lib\\site-packages\\xgboost\\core.py:158: UserWarning: [17:17:50] WARNING: C:\\buildkite-agent\\builds\\buildkite-windows-cpu-autoscaling-group-i-08cbc0333d8d4aae1-1\\xgboost\\xgboost-ci-windows\\src\\learner.cc:740: \n",
      "Parameters: { \"use_label_encoder\" } are not used.\n",
      "\n",
      "  warnings.warn(smsg, UserWarning)\n",
      "\n"
     ]
    },
    {
     "name": "stdout",
     "output_type": "stream",
     "text": [
      "🏃 View run clean-toad-645 at: http://127.0.0.1:5000/#/experiments/1/runs/d0d766c2d9fa4ff8b3a67340125cd862\n",
      "\n",
      "🧪 View experiment at: http://127.0.0.1:5000/#/experiments/1                      \n",
      "\n",
      "100%|██████████| 30/30 [00:11<00:00,  2.65trial/s, best loss: -0.9797049797049796]\n"
     ]
    }
   ],
   "source": [
    "# Hyperopt를 사용한 최적화 실행\n",
    "trials = Trials()\n",
    "best_params = fmin(\n",
    "    fn=objective, # 목적 함수\n",
    "    space=space,    # 탐색 공간\n",
    "    algo=tpe.suggest,   # 어떻게 탐색할거냐. (최적화 알고리즘)\n",
    "    max_evals=30,   # 시도 횟수\n",
    "    trials=trials   # 결과 저장소\n",
    ")"
   ]
  }
 ],
 "metadata": {
  "kernelspec": {
   "display_name": "Python 3",
   "language": "python",
   "name": "python3"
  },
  "language_info": {
   "codemirror_mode": {
    "name": "ipython",
    "version": 3
   },
   "file_extension": ".py",
   "mimetype": "text/x-python",
   "name": "python",
   "nbconvert_exporter": "python",
   "pygments_lexer": "ipython3",
   "version": "3.11.9"
  }
 },
 "nbformat": 4,
 "nbformat_minor": 5
}
