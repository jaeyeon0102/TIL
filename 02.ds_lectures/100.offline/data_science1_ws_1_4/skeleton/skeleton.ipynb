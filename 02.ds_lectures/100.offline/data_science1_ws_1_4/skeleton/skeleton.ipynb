{
 "cells": [
  {
   "cell_type": "code",
   "execution_count": null,
   "metadata": {},
   "outputs": [],
   "source": [
    "import numpy as np\n",
    "import matplotlib.pyplot as plt\n",
    "\n",
    "# 1. 이항분포 시뮬레이션 (n=10, p=0.5, size=1000)\n",
    "binomial_samples = np.random.binomial(n=10, p=0.5, size=1000)\n",
    "\n",
    "# 2. 평균과 분산 계산\n",
    "mean_val = ________   # TODO\n",
    "var_val = ________    # TODO\n",
    "\n",
    "print(\"표본 평균:\", mean_val)\n",
    "print(\"표본 분산:\", var_val)\n",
    "\n",
    "# 3. 히스토그램 시각화\n",
    "plt.hist(binomial_samples, bins=11, density=True, alpha=0.7)\n",
    "plt.title(\"Binomial Distribution Simulation\")\n",
    "plt.show()\n"
   ]
  },
  {
   "cell_type": "code",
   "execution_count": null,
   "metadata": {},
   "outputs": [],
   "source": [
    "# 1. n=10, p=0.5\n",
    "samples_n10 = np.random.binomial(n=10, p=0.5, size=1000)\n",
    "\n",
    "# 2. n=100, p=0.5\n",
    "samples_n100 = ________   # TODO: n=100일 때 시뮬레이션\n",
    "\n",
    "# 3. n=1000, p=0.5\n",
    "samples_n1000 = ________  # TODO: n=1000일 때 시뮬레이션\n",
    "\n",
    "\n",
    "# 4. 히스토그램 비교\n",
    "plt.hist(samples_n10, bins=20, density=True, alpha=0.5, label=\"n=10\")\n",
    "plt.hist(samples_n100, bins=20, density=True, alpha=0.5, label=\"n=100\")\n",
    "plt.hist(samples_n1000, bins=20, density=True, alpha=0.5, label=\"n=1000\")\n",
    "plt.legend()\n",
    "plt.title(\"Binomial Distribution with Different n\")\n",
    "plt.show()\n"
   ]
  },
  {
   "cell_type": "code",
   "execution_count": null,
   "metadata": {},
   "outputs": [],
   "source": [
    "from scipy.stats import norm\n",
    "\n",
    "# 1. 이항분포 샘플링 (n=100, p=0.5)\n",
    "binomial_samples = np.random.binomial(n=100, p=0.5, size=1000)\n",
    "\n",
    "# 2. 정규분포 근사 \n",
    "mu = ________     # TODO: 평균 계산\n",
    "sigma = ________  # TODO: 표준편차 계산\n",
    "\n",
    "x = np.arange(30, 70)\n",
    "normal_probs = norm.pdf(x, loc=mu, scale=sigma)\n",
    "\n",
    "# 3. 히스토그램 + 정규분포 곡선 비교\n",
    "plt.hist(binomial_samples, bins=20, density=True, alpha=0.6, label=\"Binomial (n=100, p=0.5)\")\n",
    "plt.plot(x, normal_probs, \"r-\", label=\"Normal Approximation\")\n",
    "plt.legend()\n",
    "plt.show()\n"
   ]
  },
  {
   "cell_type": "code",
   "execution_count": null,
   "metadata": {},
   "outputs": [],
   "source": []
  }
 ],
 "metadata": {
  "kernelspec": {
   "display_name": "Python 3",
   "language": "python",
   "name": "python3"
  },
  "language_info": {
   "codemirror_mode": {
    "name": "ipython",
    "version": 3
   },
   "file_extension": ".py",
   "mimetype": "text/x-python",
   "name": "python",
   "nbconvert_exporter": "python",
   "pygments_lexer": "ipython3",
   "version": "3.9.13"
  }
 },
 "nbformat": 4,
 "nbformat_minor": 2
}
