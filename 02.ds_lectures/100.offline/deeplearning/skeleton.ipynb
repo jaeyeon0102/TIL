{
 "cells": [
  {
   "cell_type": "code",
   "execution_count": null,
   "id": "357a6cbb",
   "metadata": {},
   "outputs": [],
   "source": [
    "import mlflow\n",
    "\n",
    "mlflow.set_tracking_uri(\"http://127.0.0.1:5000\")"
   ]
  },
  {
   "cell_type": "code",
   "execution_count": null,
   "id": "1e8c11f9",
   "metadata": {},
   "outputs": [],
   "source": [
    "# 숫자를 제곱하는 간단한 함수 정의\n",
    "def square_number(x):\n",
    "    return x*x"
   ]
  },
  {
   "cell_type": "code",
   "execution_count": null,
   "id": "6bc6c492",
   "metadata": {},
   "outputs": [],
   "source": [
    "# 1부터 10까지 숫자를 반복하여 MLflow로 실험 추적 수행\n",
    "for x in range(1, 11) :\n",
    "    # MLflow의 실험 기록을 시작 (각 숫자마다 새로운 Run 생성)\n",
    "    # run_name으로 \"square_1\", \"square_2\", ..., \"square_10\" 등 이름 지정\n",
    "    with mlflow.start_run(run_name=f\"square_{x}\"):\n",
    "        result = square_number(x)  # 현재 숫자를 제곱하여 결과 계산\n",
    "        mlflow.log_param(\"inpu_number\", x)   # 현재 입력한 숫자(x)를 MLflow 파라미터로 기록\n",
    "        mlflow.log_metric(\"square_result\", result)  # 제곱한 결과를 MLflow 메트릭으로 기록"
   ]
  },
  {
   "cell_type": "code",
   "execution_count": null,
   "id": "cae8c1e8",
   "metadata": {},
   "outputs": [],
   "source": []
  }
 ],
 "metadata": {
  "language_info": {
   "name": "python"
  }
 },
 "nbformat": 4,
 "nbformat_minor": 5
}
